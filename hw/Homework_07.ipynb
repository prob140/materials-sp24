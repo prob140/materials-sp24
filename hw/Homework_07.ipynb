{
 "cells": [
  {
   "cell_type": "markdown",
   "id": "4ecedf1f-5d86-4680-8026-9e5231c5fb6a",
   "metadata": {
    "#question": false,
    "#solution": false,
    "#staff": false,
    "#student": false
   },
   "source": [
    "<table align=\"left\" style=\"border-style: hidden\" class=\"table\"> <tr><td class=\"col-md-2\"><img style=\"float\" src=\"../logo.png\" alt=\"Prob140 Logo\" style=\"width: 120px;\"/></td><td><div align=\"left\"><h3 style=\"margin-top: 0;\">Probability for Data Science</h3><h4 style=\"margin-top: 20px;\">UC Berkeley, Spring 2024</h4><p>Ani Adhikari</p>CC BY-NC-SA 4.0</div></td></tr></table><!-- not in pdf -->\n",
    "\n",
    "This content is protected and may not be shared, uploaded, or distributed."
   ]
  },
  {
   "cell_type": "markdown",
   "id": "26e565e8-bb7b-4022-9ac3-362768fa07b3",
   "metadata": {
    "#question": false,
    "#solution": false,
    "#staff": false,
    "#student": false
   },
   "source": [
    "# Homework 7 (Due March 4th at 5PM) #"
   ]
  },
  {
   "cell_type": "code",
   "execution_count": null,
   "id": "9b888bab",
   "metadata": {
    "#question": false,
    "#solution": false,
    "#staff": false,
    "#student": true
   },
   "outputs": [],
   "source": [
    "import warnings\n",
    "warnings.filterwarnings('ignore')\n",
    "\n",
    "from prob140 import *\n",
    "from datascience import *\n",
    "import numpy as np\n",
    "from scipy import stats\n",
    "\n",
    "import matplotlib.pyplot as plt\n",
    "%matplotlib inline\n",
    "import matplotlib\n",
    "matplotlib.style.use('fivethirtyeight')"
   ]
  },
  {
   "cell_type": "markdown",
   "id": "ba5e0488-4285-47b5-acfc-6e7715205f02",
   "metadata": {
    "#question": true,
    "#solution": false,
    "#staff": false,
    "#student": false
   },
   "source": [
    "## 1. Correlation ##\n",
    "The *correlation coefficient* between random variables $X$ and $Y$ is defined as\n",
    "\n",
    "$$\n",
    "r(X, Y) ~ = \\frac{Cov(X, Y)}{SD(X)SD(Y)}\n",
    "$$\n",
    "\n",
    "It is called the correlation, for short. The definition explains why $X$ and $Y$ are called *uncorrelated* if $Cov(X, Y) = 0$.\n",
    "\n",
    "**a)** Let $X^*$ be $X$ in standard units and let $Y^*$ be $Y$ in standard units. Check that\n",
    "\n",
    "$$\n",
    "r(X, Y) = E(X^*Y^*)\n",
    "$$\n",
    "\n",
    "This is the random variable version of the Data 8 definition of the correlation between two data variables: convert each variable to standard units; multiply each pair; take the mean of the products.\n",
    "\n",
    "**b)** Use the fact that $(X^* + Y^*)^2$ and $(X^* - Y^*)^2$ are non-negative random variables to show that $-1 \\le r(X, Y) \\le 1$.\n",
    "\n",
    "[First find the numerical values of $E(X^*)$ and $E\\left({X^*}^2\\right)$. Then find $E\\left((X^* + Y^*)^2\\right)$.]\n",
    "\n",
    "**c)** Show that if $Y = aX+b$ where $a \\ne 0$, then $r(X, Y)$ is 1 or $-1$ depending on whether the sign of $a$ is positive or negative.\n",
    "\n",
    "**d)** Consider a sequence of i.i.d. Bernoulli $(p)$ trials. For any positive integer $k$ let $X_k$ be the number of successes in trials 1 through $k$. **Use bilinearity** to find $Cov(X_n, X_{n+m})$ and hence find $r(X_n, X_{n+m})$.\n",
    "\n",
    "**e)** Fix $n$ and find the limit of $r(X_n, X_{n+m})$ as $m \\to \\infty$. Explain why the limit is consistent with intuition."
   ]
  },
  {
   "cell_type": "markdown",
   "id": "46c6d61b-a679-456f-9fb1-fc7b9a0f3406",
   "metadata": {
    "#question": false,
    "#solution": false,
    "#staff": false,
    "#student": false
   },
   "source": [
    "\\newpage"
   ]
  },
  {
   "cell_type": "markdown",
   "id": "2e06a2dc-7709-470d-a031-2993f55971c2",
   "metadata": {
    "#question": true,
    "#solution": false,
    "#staff": false,
    "#student": false
   },
   "source": [
    "## 2. Collecting Distinct Values ##\n",
    "\n",
    "In Homework 4 you found the expectation of each of the random variables below. **Go back and see how you did that, and then use the same ideas** to find the variance of each one. \n",
    "\n",
    "For one part you will need the fact that the SD of a geometric $(p)$ random variable is $\\frac{\\sqrt{q}}{p}$ where $q = 1-p$. We haven't proved that as the algebra takes a bit of work. We will prove it later in the course by conditioning.\n",
    "\n",
    "**(a)** A die is rolled $n$ times. Find the variance of number of faces that *do not* appear.\n",
    "\n",
    "**(b)** Use your answer to (a) to find the variance of the number of distinct faces that *do* appear in $n$ rolls of a die.\n",
    "\n",
    "**(c)** Find the variance of the number of times you have to roll a die till you have seen all of the faces."
   ]
  },
  {
   "cell_type": "markdown",
   "id": "26bc7a2d-3f01-4125-b083-1a8de4b83a9a",
   "metadata": {
    "#question": false,
    "#solution": false,
    "#staff": false,
    "#student": false
   },
   "source": [
    "\\newpage"
   ]
  },
  {
   "cell_type": "markdown",
   "id": "856ce3f4-3103-43cc-8545-cbfd5ffaa765",
   "metadata": {
    "#question": true,
    "#solution": false,
    "#staff": false,
    "#student": false
   },
   "source": [
    "## 3. The \"Sample Variance\" ###\n",
    "\n",
    "Let $X_1, X_2, \\ldots, X_n$ be i.i.d. (discrete or continuous), each with mean $\\mu$ and SD $\\sigma$. Let $\\bar{X} = \\frac{1}{n}\\sum_{i=1}^n X_i$ be the sample mean.\n",
    "\n",
    "**(a)** Find $E(\\bar{X})$ and $SD(\\bar{X})$. It's fine to just quote answers derived in class or in the textbook.\n",
    "\n",
    "**(b)** For each $i$, find $Cov(X_i, \\bar{X})$. [Plug in the definition of $\\bar{X}$ and use bilinearity.]\n",
    "\n",
    "**(c)** For each $i$ in the range 1 through $n$, define the *$i$th deviation in the sample* as $D_i = X_i - \\bar{X}$. Find $E(D_i)$ and $Var(D_i)$. [Write the variance as $Cov(D_i, D_i)$, plug in the definition of $D_i$, and use bilinearity.]\n",
    "\n",
    "**(d)** Define the random variable $\\hat{\\sigma}^2$ as\n",
    "$$\n",
    "\\hat{\\sigma}^2 ~ = ~ \\frac{1}{n} \\sum_{i=1}^n D_i^2\n",
    "$$\n",
    "Find $E(\\hat{\\sigma}^2)$.\n",
    "\n",
    "For this random variable, the notation $\\hat{\\sigma}^2$ is pretty standard in statistics. Just think of $\\hat{\\sigma}^2$ as a symbol; it doesn't help to start thinking about the random variable that is its square root.\n",
    "\n",
    "**(e)** Use Part **d** to construct a random variable denoted $S^2$ that is an unbiased estimator of $\\sigma^2$. This random variable $S^2$ is called the *sample variance* and is frequently used in inference."
   ]
  },
  {
   "cell_type": "markdown",
   "id": "caa64baf-03f5-42c6-803b-5e58fcace80f",
   "metadata": {
    "#question": false,
    "#solution": false,
    "#staff": false,
    "#student": false
   },
   "source": [
    "\\newpage"
   ]
  },
  {
   "cell_type": "markdown",
   "id": "6fde8592-0e89-4d5a-bde0-c5998a862c6b",
   "metadata": {
    "#question": true,
    "#solution": false,
    "#staff": false,
    "#student": false
   },
   "source": [
    "## 4. Poisson-Binomial Distribution\n",
    "\n",
    "For this exercise, please refer to the theory in [Section 14.1](http://prob140.org/textbook/content/Chapter_14/01_Exact_Distribution_of_a_Sum.html#) and the code in [Section 14.2](http://prob140.org/textbook/content/Chapter_14/02_PGFs_in_NumPy.html).\n",
    "\n",
    "In Lab 3B you saw that a *Poisson-binomial* random variable is a sum of independent indicators that are not necessarily identically distributed: \n",
    "\n",
    "$X = I_1 + I_2 + \\cdots + I_n$ where $I_j$ has the Bernoulli $(p_j)$ distribution and $I_1, I_2, \\ldots, I_n$ are independent.\n",
    "\n",
    "**(a)** What is the probability generating function of a Bernoulli $(p)$ random variable? Provide a formula and then use the code cell below to define a function `indicator_pgf` that takes $p$ as its argument and returns the probability generating function of a Bernoulli $(p)$ random variable as a `NumPy` polynomial. Use as many lines as you need. The last line of the cell is there for you to check that your function is working."
   ]
  },
  {
   "cell_type": "code",
   "execution_count": null,
   "id": "f2ff453f",
   "metadata": {
    "#question": false,
    "#solution": false,
    "#staff": false,
    "#student": true
   },
   "outputs": [],
   "source": [
    "# Answer to a\n",
    "\n",
    "def indicator_pgf(p):\n",
    "    ...\n",
    "    return ...\n",
    "\n",
    "print(indicator_pgf(0.4))"
   ]
  },
  {
   "cell_type": "markdown",
   "id": "d074d5e5",
   "metadata": {
    "#question": true,
    "#solution": false,
    "#staff": false,
    "#student": false
   },
   "source": [
    "\n",
    "**(b)** For $j = 1, 2, \\ldots, 20$, let $p_j = 1/(j+1)$. Let $I_1, I_2, \\ldots, I_{20}$ be independent indicators such that $I_j$ has the Bernoulli $(p_j)$ distribution, and let $X = I_1 + I_2 + \\cdots + I_{20}$. Complete the code cell below so that `pgf_X` is the probability generating function of $X$ as a `NumPy` polynomial. Use as many lines as you need. The last two lines are there for you to check that your polynomial has the correct degree and that it is indeed a probability generating function."
   ]
  },
  {
   "cell_type": "code",
   "execution_count": null,
   "id": "ad3c426a",
   "metadata": {
    "#question": false,
    "#solution": false,
    "#staff": false,
    "#student": true
   },
   "outputs": [],
   "source": [
    "# Answer to b\n",
    "\n",
    "...\n",
    "\n",
    "print(pgf_X)\n",
    "sum(pgf_X.c) # sum of coefficients"
   ]
  },
  {
   "cell_type": "markdown",
   "id": "1441bafc",
   "metadata": {
    "#question": true,
    "#solution": false,
    "#staff": false,
    "#student": false
   },
   "source": [
    "\n",
    "**(c)** Complete the cell below to plot the probability histogram of $X$. Do not add any more lines."
   ]
  },
  {
   "cell_type": "code",
   "execution_count": null,
   "id": "50d8940d",
   "metadata": {
    "#question": false,
    "#solution": false,
    "#staff": false,
    "#student": true
   },
   "outputs": [],
   "source": [
    "# Answer to c\n",
    "\n",
    "vals_X = ...\n",
    "probs_X = ...\n",
    "dist_X = Table()...\n",
    "Plot(dist_X)"
   ]
  },
  {
   "cell_type": "markdown",
   "id": "325d70ca",
   "metadata": {
    "#question": true,
    "#solution": false,
    "#staff": false,
    "#student": false
   },
   "source": [
    "\n",
    "**(d)** Complete the cell below to find the expectation, variance, and SD of $X$ using `p_array`. Do not add any more lines. Then run the cell below that to check your answers."
   ]
  },
  {
   "cell_type": "code",
   "execution_count": null,
   "id": "e8acf7a4",
   "metadata": {
    "#question": false,
    "#solution": false,
    "#staff": false,
    "#student": true
   },
   "outputs": [],
   "source": [
    "# Answer to d\n",
    "\n",
    "p_array = 1/np.arange(2, 22)\n",
    "ev_X = ...\n",
    "var_X = ...\n",
    "sd_X = ...\n",
    "ev_X, var_X, sd_X"
   ]
  },
  {
   "cell_type": "code",
   "execution_count": null,
   "id": "65c4c9d5",
   "metadata": {
    "#question": false,
    "#solution": false,
    "#staff": false,
    "#student": false
   },
   "outputs": [],
   "source": [
    "dist_X.ev(), dist_X.var(), dist_X.sd()"
   ]
  },
  {
   "cell_type": "markdown",
   "id": "d403e045",
   "metadata": {
    "#question": true,
    "#solution": false,
    "#staff": false,
    "#student": false
   },
   "source": [
    "\n",
    "**(e)** Explain why the distribution of $X$ cannot be Poisson. Then show that the distribution of $X$ is not binomial either, as follows. If $X$ were binomial, what would $n$ have to be? Use that and your answer to Part (d) to see what $p$ would have to be. Use the code cell below to find the variance of that binomial distribution, and compare with your answer to Part (d)."
   ]
  },
  {
   "cell_type": "code",
   "execution_count": null,
   "id": "951c889e",
   "metadata": {
    "#question": false,
    "#solution": false,
    "#staff": false,
    "#student": true
   },
   "outputs": [],
   "source": [
    "# Answer to e\n",
    "\n",
    "n = ...\n",
    "p = ...\n",
    "binomial_variance = ... \n",
    "binomial_variance"
   ]
  },
  {
   "cell_type": "markdown",
   "id": "5ccd53fd",
   "metadata": {
    "#question": false,
    "#solution": false,
    "#staff": false,
    "#student": false
   },
   "source": [
    "\\newpage"
   ]
  },
  {
   "cell_type": "markdown",
   "id": "65dfb982",
   "metadata": {
    "#question": true,
    "#solution": false,
    "#staff": false,
    "#student": false
   },
   "source": [
    "\n",
    "## 5. Testing Hypotheses in the Gauss Model\n",
    "\n",
    "The [Gauss](https://en.wikipedia.org/wiki/Carl_Friedrich_Gauss) model for measurement error says that repeated measurements $X_1, X_2, \\ldots, X_n$ of the same quantity have the structure\n",
    "\n",
    "$$\n",
    "X_i = \\mu + \\epsilon_i, ~~~~~ 1 \\leq i \\leq n\n",
    "$$\n",
    "\n",
    "where $\\mu$ is an unknown constant called the *true value* and $\\epsilon_1, \\epsilon_2, \\ldots, \\epsilon_n$ are random error terms assumed to be i.i.d. with mean 0 and variance $\\sigma^2$. \n",
    "\n",
    "From a practical perspective, the true value $\\mu$ comes from the quantity being measured (for example, the true weight of an object). The error terms come from the measuring process (for example, from the balance being used for weighing). Thus $\\sigma$ is sometimes known because of extensive experience with the measuring process (for example, having used the same balance to weigh many different objects). \n",
    "\n",
    "So assume that the Gauss model holds with $\\sigma = 1$, and let $n = 100$. Suppose a data scientist wants to test the following hypotheses:\n",
    "\n",
    "- Null hypothesis $H_0$: $\\mu = 20$\n",
    "- Alternative hypothesis $H_A$: $\\mu \\neq 20$\n",
    "\n",
    "Suppose the data scientist wants to use the average measurement $\\bar{X}$ as the test statistic and reject the null hypothesis if $\\vert \\bar{X} - 20 \\vert > 0.175$.\n",
    "\n",
    "**(a)** Rewrite the decision rule by filling in the blanks with numbers: $\\vert \\bar{X} - 20 \\vert > 0.175 \\iff \\bar{X} < \\underline{~~~~~~~~} \\text{ or } \\bar{X} > \\underline{~~~~~~~~}$\n",
    "\n",
    "**(b) Level:** Find the approximate distribution of the test statistic $\\bar{X}$ under $H_0$, and use this distribution to find the approximate probability that the test rejects the null hypothesis if the null hypothesis is true. This probability is called the *level* of the test. In Data 8 we called it the cutoff for the p-value. \n",
    "\n",
    "**Please write out your answer in math notation.** Then use the code cell below for scratch work. Remember that `stats.norm.cdf(x, mean, SD)` evaluates to the cdf of the normal $(\\text{mean, } \\text{SD}^2)$ distribution at the point $x$. The necessary modules have been imported at the top of this notebook.\n",
    "\n",
    "**(c) Power:** Suppose that in fact $\\mu = 20.5$ though the data scientist doesn't know this and is still performing the same test as above. Find the approximate distribution of the test statistic $\\bar{X}$ under the condition $\\mu = 20.5$, and use this distribution to find the approximate probability that the test rejects the null hypothesis if $\\mu = 20.5$. This probability is called the *power of the test against the fixed alternative $\\mu = 20.5$*. \n",
    "\n",
    "**Please write out your answer in math notation.** Then use the code cell below for scratch work."
   ]
  },
  {
   "cell_type": "code",
   "execution_count": null,
   "id": "21ebc98c",
   "metadata": {
    "#question": false,
    "#solution": false,
    "#staff": false,
    "#student": true
   },
   "outputs": [],
   "source": [
    "# Scratch work for b and c\n"
   ]
  },
  {
   "cell_type": "markdown",
   "id": "f5c92dc8",
   "metadata": {
    "#question": true,
    "#solution": false,
    "#staff": false,
    "#student": false
   },
   "source": [
    "\n",
    "**(d)** Complete the code cell below to plot the graph of the power of the test under the fixed alternative $\\mu = \\mu_A$ for $\\mu_A$ in the range `true_mu` below. Do not add any more lines.\n",
    "\n",
    "Computational note: First study the code below and compare with the output of the cell. "
   ]
  },
  {
   "cell_type": "code",
   "execution_count": null,
   "id": "e1d19de6",
   "metadata": {
    "#question": false,
    "#solution": false,
    "#staff": false,
    "#student": false
   },
   "outputs": [],
   "source": [
    "mu_list = [10, 15, 20]  # It's also fine for this to be an array.\n",
    "\n",
    "# array of P(X_i < 12)\n",
    "# for X_i normal with mean = ith element of mu_list\n",
    "# and SD = 8\n",
    "stats.norm.cdf(12, mu_list, 8)"
   ]
  },
  {
   "cell_type": "code",
   "execution_count": null,
   "id": "5fa8f1da",
   "metadata": {
    "#question": false,
    "#solution": false,
    "#staff": false,
    "#student": true
   },
   "outputs": [],
   "source": [
    "# Answer to d\n",
    "\n",
    "true_mu = np.arange(19, 21, 0.01)\n",
    "power = ...\n",
    "\n",
    "plt.plot(true_mu, power, color='darkblue', lw=2)\n",
    "plt.xlabel('True value of $\\mu$')\n",
    "plt.title('Power of the Test');"
   ]
  },
  {
   "cell_type": "markdown",
   "id": "d375ed43",
   "metadata": {
    "#question": true,
    "#solution": false,
    "#staff": false,
    "#student": false
   },
   "source": [
    "\n",
    "**(e)** Interpret the graph. What is the test likely to do if the true value of $\\mu$ is far from 20, and what does the power converge to (be careful!) when the true value gets close to $20$?"
   ]
  },
  {
   "cell_type": "markdown",
   "id": "5d45c273-4ba2-41b7-b2da-9eefd2514ea0",
   "metadata": {
    "#question": false,
    "#solution": false,
    "#staff": false,
    "#student": true,
    "jp-MarkdownHeadingCollapsed": true
   },
   "source": [
    "## Submission Instructions ##\n",
    "\n",
    "Many assignments throughout the course will have a written portion and a code portion. Please follow the directions below to properly submit both portions.\n",
    "\n",
    "### Written Portion ###\n",
    "*  Scan all the pages into a PDF. You can use any scanner or a phone using applications such as CamScanner. Please **DO NOT** simply take pictures using your phone. \n",
    "* Please start a new page for each question. If you have already written multiple questions on the same page, you can crop the image in CamScanner or fold your page over (the old-fashioned way). This helps expedite grading.\n",
    "* It is your responsibility to check that all the work on all the scanned pages is legible.\n",
    "* If you used $\\LaTeX$ to do the written portions, you do not need to do any scanning; you can just download the whole notebook as a PDF via LaTeX.\n",
    "\n",
    "### Code Portion ###\n",
    "* Save your notebook using `File > Save Notebook`.\n",
    "* Generate a PDF file using `File > Save and Export Notebook As > PDF`. This might take a few seconds and will automatically download a PDF version of this notebook.\n",
    "    * If you have issues, please post a follow-up on the general Homework 7 Ed thread.\n",
    "    \n",
    "### Submitting ###\n",
    "* Combine the PDFs from the written and code portions into one PDF. [Here](https://smallpdf.com/merge-pdf) is a useful tool for doing so. \n",
    "* Submit the assignment to Homework 7 on Gradescope. \n",
    "* **Make sure to assign each page of your pdf to the correct question.**\n",
    "* **It is your responsibility to verify that all of your work shows up in your final PDF submission.**\n",
    "\n",
    "If you are having difficulties scanning, uploading, or submitting your work, please read the [Ed Thread](https://edstem.org/us/courses/53293/discussion/4128987) on this topic and post a follow-up on the general Homework 7 Ed thread."
   ]
  },
  {
   "cell_type": "markdown",
   "id": "31e48c4e-f347-460b-8f29-10e22b6568d5",
   "metadata": {
    "#question": false,
    "#solution": false,
    "#staff": false,
    "#student": true
   },
   "source": [
    "## **We will not grade assignments which do not have pages selected for each question.** ##"
   ]
  }
 ],
 "metadata": {
  "checksums": [
   "eaf4156566e6bb66fa748eaf28c03d6d",
   "9bd6585939070a0c0cb2cf9594991dd6",
   "f6b7b3f605ba090e0efd9a26d52136e8",
   "0ff1a0537aa1864e691699b9062ec00f",
   "562505d567faf02dfc9388e81e89d07b",
   "b935145de23add78156daac19ac3efb4",
   "562505d567faf02dfc9388e81e89d07b",
   "2140f69280c70fa8a737c4b3ab90b0d6",
   "562505d567faf02dfc9388e81e89d07b",
   "5ca45fa9467d581dfa0b0f2014959416",
   "32b31b0e84cbe4c0d5c6ca1460b6c024",
   "ffa37178816d68d9528e9d342909628f",
   "396349e9ff32727e2b0da48a9c7af961",
   "89b30f97559ca9f0df973b3ba95ce456",
   "a31727edc3ab1349b3a36489e7134d71",
   "c75e477e5c02a28a91d42c50f20b6ce0",
   "9421cedb441b1af3e0a8c3dff5f0d24f",
   "c487ce8667c98b8bfdb351828ee85254",
   "ad1e53967522a543a357713d61923fab",
   "b5525187fc37da324133ce506b8c91c8",
   "562505d567faf02dfc9388e81e89d07b",
   "81fd7a688b7e89f2e6bbd54d2ef4cf2f",
   "de9a11333d48bba590b8b6d9ec80f2f9",
   "696ef4f51f793f12f42a61463a8cfcb4",
   "15e24ee019ee1c730aae6a0118380128",
   "041d0bdf68b2b7c308afa32fad295474",
   "580e12e058798baab3357bf7c98ec453",
   "022fcc18dfafb1043b3651a6be58c2c5",
   "28b84f784840e42a5b8327aab8f973c0"
  ],
  "kernelspec": {
   "display_name": "Python 3 (ipykernel)",
   "language": "python",
   "name": "python3"
  },
  "language_info": {
   "codemirror_mode": {
    "name": "ipython",
    "version": 3
   },
   "file_extension": ".py",
   "mimetype": "text/x-python",
   "name": "python",
   "nbconvert_exporter": "python",
   "pygments_lexer": "ipython3",
   "version": "3.9.6"
  },
  "number_of_pagebreaks": 0
 },
 "nbformat": 4,
 "nbformat_minor": 5
}
