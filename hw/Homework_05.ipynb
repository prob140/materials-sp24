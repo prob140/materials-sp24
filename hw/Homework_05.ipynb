{
 "cells": [
  {
   "cell_type": "markdown",
   "id": "c00e6c13-41fe-4df9-b6da-81f38a4fe676",
   "metadata": {
    "#question": false,
    "#solution": false,
    "#staff": false,
    "#student": false
   },
   "source": [
    "<table align=\"left\" style=\"border-style: hidden\" class=\"table\"> <tr><td class=\"col-md-2\"><img style=\"float\" src=\"../logo.png\" alt=\"Prob140 Logo\" style=\"width: 120px;\"/></td><td><div align=\"left\"><h3 style=\"margin-top: 0;\">Probability for Data Science</h3><h4 style=\"margin-top: 20px;\">UC Berkeley, Spring 2024</h4><p>Ani Adhikari</p>CC BY-NC-SA 4.0</div></td></tr></table><!-- not in pdf -->\n",
    "\n",
    "This content is protected and may not be shared, uploaded, or distributed."
   ]
  },
  {
   "cell_type": "markdown",
   "id": "7dae0c01-5b50-4db3-91f6-7d458dec4651",
   "metadata": {
    "#question": false,
    "#solution": false,
    "#staff": false,
    "#student": false
   },
   "source": [
    "# Homework 5 (Due February 20th at NOON) #"
   ]
  },
  {
   "cell_type": "markdown",
   "id": "003648f0-599e-403a-bebf-4d993c3defc3",
   "metadata": {
    "#question": true,
    "#solution": false,
    "#staff": false,
    "#student": false
   },
   "source": [
    "## 1. Unbiased Estimators ##\n",
    "\n",
    "**a)** A population of known size $N$ contains an unknown number $G$ of good elements. Let $X$ be the number of good elements in a simple random sample of size $n$ drawn from this population. Use $X$ to construct an unbiased estimator of $G$.\n",
    "\n",
    "\n",
    "**b)** Would your answer to Part **a** have been different if $X$ had been the number of good elements in a random sample drawn with replacement from the population? Why or why not?\n",
    "\n",
    "**c)** A flattened die lands 1 and 6 with chance $p/2$ each, and the other faces 2, 3, 4, and 5 with chance $(1-p)/4$ each. Here $p \\in (0, 1)$ is an unknown number. Let $X_1, X_2, \\ldots, X_n$ be the results of $n$ rolls of this die. First find $E(\\vert X_1 - 3.5 \\vert)$, and use the answer to construct an unbiased estimator of $p$ based on all of $X_1, X_2, \\ldots, X_n$."
   ]
  },
  {
   "cell_type": "markdown",
   "id": "1aca7c82-7074-49c8-8dfb-187b18c281c9",
   "metadata": {
    "#question": false,
    "#solution": false,
    "#staff": false,
    "#student": false
   },
   "source": [
    "\\newpage"
   ]
  },
  {
   "cell_type": "markdown",
   "id": "77e61d97-a64d-4c84-abdc-e67e358a82b9",
   "metadata": {
    "#question": true,
    "#solution": false,
    "#staff": false,
    "#student": false
   },
   "source": [
    "## 2. Waiting for a Success Run ##\n",
    "**Required Reading:** Before you start this section, carefully read **Answer 2** of [Section 9.3.4](http://prob140.org/textbook/content/Chapter_09/03_Expected_Waiting_Times.html#waiting-till-hh). That is the method you will apply in this exercise.\n",
    "\n",
    "In a sequence of i.i.d. Bernoulli $(p)$ trials, let H represent \"heads\" or \"success\", that is, the event that occurs with probability $p$. Let $W_{H,n}$ be the number of trials till you get $n$ heads in a row. \n",
    "\n",
    "Remember that \"till\" means \"up to and including\" the $n$ heads in a row. Thus if the sequence of tosses starts out as TTTHTHHH then $W_{H,1} = 4$, $W_{H,2} = 7$, and $W_{H,3} = 8$.\n",
    "\n",
    "**(a)** [These results are in the book but it will help to have them here for reference. You don't have to prove them here.] Write $E(W_{H,1})$ and $E(W_{H,2})$ as math expressions involving **only** positive terms of the form $1/p^k$ for positive integer $k$. \n",
    "\n",
    "**(b) Three heads in a row.** In Answer 2 of [Section 9.3.4](http://prob140.org/textbook/content/Chapter_09/03_Expected_Waiting_Times.html#waiting-till-hh), we condition on $W_{H,1}$ to get $E(W_{H,2})$. Now condition on $W_{H,2}$ to find $E(W_{H,3})$. As above, your answer should involve only positive terms of the form $1/p^k$ for positive integer $k$. Find the numerical value of $E(W_{H,3})$ in the case $p = 1/2$.\n",
    "\n",
    "**(c) $n$ heads in a row.** Guess an expression for $E(W_{H,n})$ for $n \\ge 1$. Prove it by induction, as follows: Assume that your guess is true for $n$, and show that then it must also be true for $n+1$. \n",
    "\n",
    "**(d)** Define a function `ev_W_run` that takes $p$ and $n$ as arguments and returns $E(W_{H,n})$. Just replace the ellipsis by an expression. Do not add any other lines of code."
   ]
  },
  {
   "cell_type": "code",
   "execution_count": null,
   "id": "e1b75a58-449e-4f27-ae16-658392cc2e5c",
   "metadata": {
    "#question": false,
    "#solution": false,
    "#staff": false,
    "#student": true
   },
   "outputs": [],
   "source": [
    "import numpy as np\n",
    "\n",
    "def ev_W_run(p, n):\n",
    "    return ..."
   ]
  },
  {
   "cell_type": "markdown",
   "id": "430bc856-2365-4c17-bf1e-05151bf99b2d",
   "metadata": {
    "#question": true,
    "#solution": false,
    "#staff": false,
    "#student": false
   },
   "source": [
    "\n",
    "Check that your function works by running the cell below and confirming that the answer is the same as what you got in Part **b**."
   ]
  },
  {
   "cell_type": "code",
   "execution_count": null,
   "id": "ad85adc4-f4e3-46ee-b9ed-1a42d934d74d",
   "metadata": {
    "#question": false,
    "#solution": false,
    "#staff": false,
    "#student": true
   },
   "outputs": [],
   "source": [
    "ev_W_run(0.5, 3)"
   ]
  },
  {
   "cell_type": "markdown",
   "id": "773f3ab3-5dc3-4014-8f86-9e757a774f15",
   "metadata": {
    "#question": true,
    "#solution": false,
    "#staff": false,
    "#student": false
   },
   "source": [
    "\n",
    "Now use `ev_W_run` to find the expectation of each of the following random variables.\n",
    "\n",
    "(1) The number of tosses of a fair coin till 10 consecutive heads appear \n",
    "\n",
    "(2) The number of rolls of a fair die till six consecutive sixes appear\n",
    "\n",
    "(3) The number of times a random number generator is run till 000 appears, if the generator draws at random with replacement from the 10 digits 0, 1, 2, 3, 4, 5, 6, 7, 8, and 9\n",
    "\n",
    "(4) The number of days till a robot types $ZZZZZ$ if the robot types at the rate of 10 letters per second (without breaks) and chooses letters at random with replacement from the 26 upper case letters of the English alphabet"
   ]
  },
  {
   "cell_type": "code",
   "execution_count": null,
   "id": "e1c6601f-8af9-4a51-8617-1bd078826af3",
   "metadata": {
    "#question": false,
    "#solution": false,
    "#staff": false,
    "#student": true
   },
   "outputs": [],
   "source": [
    "# Expected number of:\n",
    "\n",
    "# (1) fair coin tosses till 10 consecutive heads\n",
    "ans_1 = ...\n",
    "\n",
    "# (2) rolls of a die till 6 consecutive sixes\n",
    "ans_2 = ...\n",
    "\n",
    "# (3) runs of a random number generator till 000\n",
    "ans_3 = ...\n",
    "\n",
    "# (4) days till ZZZZZ by robot typist\n",
    "ans_4 = ...\n",
    "\n",
    "ans_1, ans_2, ans_3, ans_4"
   ]
  },
  {
   "cell_type": "markdown",
   "id": "28b4ab79-f0d3-4ab8-9e5d-0aa411ab0c10",
   "metadata": {
    "#question": false,
    "#solution": false,
    "#staff": false,
    "#student": false
   },
   "source": [
    "\\newpage"
   ]
  },
  {
   "cell_type": "markdown",
   "id": "0ad1f578-2b33-42cf-9807-46adb823dff9",
   "metadata": {
    "#question": true,
    "#solution": false,
    "#staff": false,
    "#student": false
   },
   "source": [
    "## 3. Winning Color ##\n",
    "In a population, the proportion of red elements is $p_r$, the proportion of blue elements is $p_b$, the proportion of green elements is $p_g$, and $p_r + p_b + p_g = 1$.\n",
    "\n",
    "In each part below, set $x$ equal to the quantity that you are trying to find, and develop an equation for $x$ by conditioning on the first couple of draws. Try to write the simplest equation you can. Then solve for $x$.\n",
    "\n",
    "**Do not use any other method. The point of this exercise is for you to learn how to use the method outlined above. It's almost certainly going to be shorter than any other correct method.**\n",
    "\n",
    "**a)** Alan draws repeatedly at random with replacement from the population, betting that the color red will appear before the color blue. Find the chance that he wins his bet. Your final answer should be in terms of $p_r$ and $p_b$ only, and you should aim for the simplest possible form.\n",
    "\n",
    "**b)** The answer to **a** can be applied in any situation where there are i.i.d. multinomial trials. For example, suppose a die is rolled repeatedly. Use your answer to Part **a** to find the chance that the face with one spot appears before all the faces that have an even number of spots.\n",
    "\n",
    "**c)** Now suppose Alan plays the following game with Katherine. They draw alternately at random with replacement from the population, with Alan drawing first. Alan wins if he draws red before Katherine has drawn blue. Katherine wins if she draws blue before Alan has drawn red. Find the chance that Alan wins the game. To keep your expressions simple, use the notation $q_r = 1-p_r$ and $q_b = 1 - p_b$.\n",
    "\n",
    "**d)** Find the expected duration of the game in Part **c**. That is, find the expected number of draws till there is a winner."
   ]
  },
  {
   "cell_type": "markdown",
   "id": "1760862b-ce70-47b3-aae5-97ff4e33eaa8",
   "metadata": {
    "#question": false,
    "#solution": false,
    "#staff": false,
    "#student": false
   },
   "source": [
    "\\newpage"
   ]
  },
  {
   "cell_type": "markdown",
   "id": "97a09479-1be0-4db8-9005-46fb1695127d",
   "metadata": {
    "#question": true,
    "#solution": false,
    "#staff": false,
    "#student": false
   },
   "source": [
    "## 4. Sausage Chain ##\n",
    "\n",
    "Let $X_0, X_1, X_2, \\ldots$ be a Markov Chain that has state space $\\{1, 2, 3, 4, 5\\}$ and one-step transition probabilities given by\n",
    "\n",
    "$$\n",
    "P(1, 2) ~ = ~ 1 ~ = ~ P(5, 4)\n",
    "$$\n",
    "and for $2 \\le i \\le 4$,\n",
    "$$\n",
    "P(i, j) ~ = ~ \n",
    "\\begin{cases}\n",
    "\\frac{1}{3} ~~ \\text{ if } j = i+1 \\\\\n",
    "\\frac{1}{3} ~~ \\text{ if } j = i \\\\\n",
    "\\frac{1}{3} ~~ \\text{ if } j = i-1 \\\\\n",
    "\\end{cases}\n",
    "$$\n",
    "\n",
    "**a)** Is there a probability distribution that satisfies the detailed balance equations for this chain? Why or why not?\n",
    "\n",
    "**b)** Find the stationary distribution of the chain.\n",
    "\n",
    "**c)** Find an approximate numerical value of $P(X_{1000} = 4 \\mid X_0 = 3)$."
   ]
  },
  {
   "cell_type": "markdown",
   "id": "fa4b1f51-f7b4-47b4-b328-67ac19b8ee3f",
   "metadata": {
    "#question": false,
    "#solution": false,
    "#staff": false,
    "#student": false
   },
   "source": [
    "\\newpage"
   ]
  },
  {
   "cell_type": "markdown",
   "id": "61679b34-4ab7-45a2-995d-f0790066f436",
   "metadata": {
    "#question": true,
    "#solution": false,
    "#staff": false,
    "#student": false
   },
   "source": [
    "## 5. \"Move to Front\" Permutations ##\n",
    "\n",
    "Consider an alphabet of length $N$. A move-to-front permutation of the $N$ letters consists of picking one of the letters (randomly or otherwise) and moving it to the front of the list. \n",
    "\n",
    "For example, if the alphabet consists of the three letters A, B, and C, and you start with the permutation ABC, then CAB is the result of one move-to-front (the chosen letter is C), as is ABC (the chosen letter is A), but not CBA.\n",
    "\n",
    "**a)** As a preliminary, recall that all transition matrices are stochastic; that is, each row sums to 1. Suppose the transition matrix of a finite-state, irreducible, aperiodic chain is doubly stochastic; that is, each of its columns also sums to 1. Explain why the stationary distribution must be uniform.\n",
    "\n",
    "**b)** A standard deck consists of 52 cards. A “random to front” shuffle is defined as follows: Pick one of the 52 cards uniformly at random and move it to the front of the deck (which you are welcome to think of as the top of the deck, if you prefer). Explain why if you perform this move over and over again, in the long run the deck will become well shuffled; that is, all permutations will be equally likely. [Hint: Set up an appropriate chain and use Part **a**. You might want to try it out first with an alphabet of just the letters A, B, and C.]"
   ]
  },
  {
   "cell_type": "markdown",
   "id": "6a33d873-057d-4589-be34-fa5fe6845cb0",
   "metadata": {
    "#question": false,
    "#solution": false,
    "#staff": false,
    "#student": true,
    "jp-MarkdownHeadingCollapsed": true
   },
   "source": [
    "## Submission Instructions ##\n",
    "\n",
    "Many assignments throughout the course will have a written portion and a code portion. Please follow the directions below to properly submit both portions.\n",
    "\n",
    "### Written Portion ###\n",
    "*  Scan all the pages into a PDF. You can use any scanner or a phone using applications such as CamScanner. Please **DO NOT** simply take pictures using your phone. \n",
    "* Please start a new page for each question. If you have already written multiple questions on the same page, you can crop the image in CamScanner or fold your page over (the old-fashioned way). This helps expedite grading.\n",
    "* It is your responsibility to check that all the work on all the scanned pages is legible.\n",
    "* If you used $\\LaTeX$ to do the written portions, you do not need to do any scanning; you can just download the whole notebook as a PDF via LaTeX.\n",
    "\n",
    "### Code Portion ###\n",
    "* Save your notebook using `File > Save Notebook`.\n",
    "* Generate a PDF file using `File > Save and Export Notebook As > PDF`. This might take a few seconds and will automatically download a PDF version of this notebook.\n",
    "    * If you have issues, please post a follow-up on the general Homework 5 Ed thread.\n",
    "    \n",
    "### Submitting ###\n",
    "* Combine the PDFs from the written and code portions into one PDF. [Here](https://smallpdf.com/merge-pdf) is a useful tool for doing so. \n",
    "* Submit the assignment to Homework 5 on Gradescope. \n",
    "* **Make sure to assign each page of your pdf to the correct question.**\n",
    "* **It is your responsibility to verify that all of your work shows up in your final PDF submission.**\n",
    "\n",
    "If you are having difficulties scanning, uploading, or submitting your work, please read the [Ed Thread](https://edstem.org/us/courses/53293/discussion/4128987) on this topic and post a follow-up on the general Homework 5 Ed thread."
   ]
  },
  {
   "cell_type": "markdown",
   "id": "5c83a35d-8f3b-48b0-88fc-76c4e5ef5b12",
   "metadata": {
    "#question": false,
    "#solution": false,
    "#staff": false,
    "#student": true
   },
   "source": [
    "## **We will not grade assignments which do not have pages selected for each question.** ##"
   ]
  }
 ],
 "metadata": {
  "checksums": [
   "eaf4156566e6bb66fa748eaf28c03d6d",
   "93273ffadfad5fbe50126545018ef02e",
   "4e5eeaf83ab209bfa3e6efbc926a1502",
   "562505d567faf02dfc9388e81e89d07b",
   "578c5d5f9a7548051305511b112ef4f9",
   "2d2ee3802e6db4f63c8350fd18b0e272",
   "57015ed4dea3185d90bf4f96e54c73cf",
   "97ad7cec01bae15e500d2a55e4b1acb2",
   "b5e99e46d862b81ff6d6606c5d0dbb94",
   "2bcb3c5f3a45364abfc19afebfa2fc75",
   "562505d567faf02dfc9388e81e89d07b",
   "e8e13cb4f2319ab24af080e110015820",
   "562505d567faf02dfc9388e81e89d07b",
   "4948679ee015644644a87d3a98908e50",
   "562505d567faf02dfc9388e81e89d07b",
   "20dc05f9beff0d23fd81ce61e151426f",
   "c4cf5300a1e54172ebafd40723525bf4",
   "28b84f784840e42a5b8327aab8f973c0"
  ],
  "kernelspec": {
   "display_name": "Python 3 (ipykernel)",
   "language": "python",
   "name": "python3"
  },
  "language_info": {
   "codemirror_mode": {
    "name": "ipython",
    "version": 3
   },
   "file_extension": ".py",
   "mimetype": "text/x-python",
   "name": "python",
   "nbconvert_exporter": "python",
   "pygments_lexer": "ipython3",
   "version": "3.10.8"
  },
  "number_of_pagebreaks": 0
 },
 "nbformat": 4,
 "nbformat_minor": 5
}
